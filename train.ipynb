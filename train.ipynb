{
  "nbformat": 4,
  "nbformat_minor": 0,
  "metadata": {
    "colab": {
      "name": "gtav img classification.ipynb",
      "provenance": [],
      "collapsed_sections": []
    },
    "kernelspec": {
      "name": "python3",
      "display_name": "Python 3"
    },
    "language_info": {
      "name": "python"
    },
    "accelerator": "GPU"
  },
  "cells": [
    {
      "cell_type": "code",
      "metadata": {
        "id": "C_42fmE601yv"
      },
      "source": [
        "import cv2\n",
        "import numpy as np\n",
        "import h5py\n",
        "from imgaug import augmenters  as iaa\n"
      ],
      "execution_count": null,
      "outputs": []
    },
    {
      "cell_type": "code",
      "metadata": {
        "id": "dbGE2oLkE9C-"
      },
      "source": [
        "!nvidia-smi -L"
      ],
      "execution_count": null,
      "outputs": []
    },
    {
      "cell_type": "code",
      "metadata": {
        "id": "6oYbpIPG9k7S"
      },
      "source": [
        "from google.colab import drive\n",
        "drive.mount('/content/drive')"
      ],
      "execution_count": null,
      "outputs": []
    },
    {
      "cell_type": "code",
      "metadata": {
        "id": "q3hW77KO9nfU"
      },
      "source": [
        "# Load the h5 file into memory because it's small enough\n",
        "\n",
        "data = []\n",
        "f = h5py.File(\"drive/MyDrive/datasets/gtav/balanced_data.h5\")\n",
        "images = f[\"images\"][:]\n",
        "images = np.array(images).reshape(-1, 160, 120, 1)\n",
        "feedbacks = f[\"feedbacks\"][:]\n",
        "\n",
        "for i in range(f[\"images\"].shape[0]):\n",
        "  data.append([images[i], feedbacks[i]])\n",
        "\n",
        "print(len(data))"
      ],
      "execution_count": null,
      "outputs": []
    },
    {
      "cell_type": "code",
      "metadata": {
        "id": "_weeGIH491lG"
      },
      "source": [
        "# Double the dataset size by flipping the image and steering\n",
        "\n",
        "for i in range(len(images)):\n",
        "    image = cv2.flip(images[i], 1)\n",
        "    feedback = feedbacks[i]\n",
        "    data.append([image, [-feedback[0], feedback[1]]])\n",
        "\n",
        "print(len(data))"
      ],
      "execution_count": null,
      "outputs": []
    },
    {
      "cell_type": "code",
      "metadata": {
        "id": "oQx84sEk-WFp"
      },
      "source": [
        "# Split data into train and val sets\n",
        "\n",
        "np.random.shuffle(data)\n",
        "\n",
        "border = round(len(data) * 0.8)\n",
        "\n",
        "train = np.asarray(data[:border], dtype=object)\n",
        "val = np.asarray(data[border:], dtype=object)\n",
        "\n",
        "print(train.shape)\n",
        "print(val.shape)"
      ],
      "execution_count": null,
      "outputs": []
    },
    {
      "cell_type": "code",
      "metadata": {
        "id": "0zoYvw26-aTY"
      },
      "source": [
        "#Image augmentation used to generalize the performance of the model\n",
        "def zoom(image):\n",
        "  zoom_img = iaa.Affine(scale = (1, 1.3))\n",
        "  image = zoom_img.augment_image(image)\n",
        "  return image\n",
        "\n",
        "def pan(image):\n",
        "  pan = iaa.Affine(translate_percent={'x': (-0.1, 0.1), 'y': (-0.1, 0.1)})\n",
        "  image = pan.augment_image(image)\n",
        "  return image\n",
        "\n",
        "def img_random_brightness(image):\n",
        "  brightness = iaa.Multiply((0.2, 1.2))\n",
        "  image = brightness.augment_image(image)\n",
        "  return image\n",
        "\n",
        "def img_random_flip(image, choice):\n",
        "  image = cv2.flip(image, 1)\n",
        "  steering=choice[0]\n",
        "  throttle=choice[1]\n",
        "  steering = -steering\n",
        "  new_choice = [steering, throttle]\n",
        "  return image, new_choice\n",
        "\n",
        "def random_augment(image, choice):\n",
        "    #image = npimg.imread(image)\n",
        "    #return image, choice\n",
        "    if np.random.rand() < 0.5:\n",
        "      image = pan(image)\n",
        "    if np.random.rand() < 0.5:\n",
        "      image = zoom(image)\n",
        "    if np.random.rand() < 0.5:\n",
        "      image = img_random_brightness(image)\n",
        "    if np.random.rand() < 0.5:\n",
        "      image, choice = img_random_flip(image, choice)\n",
        "    \n",
        "    \n",
        "    return image, choice"
      ],
      "execution_count": null,
      "outputs": []
    },
    {
      "cell_type": "code",
      "metadata": {
        "id": "jjltjQjZ-bsG"
      },
      "source": [
        "def data_generator(data, batch_size, is_train):\n",
        "  while True:\n",
        "    images = []\n",
        "    feedbacks = []\n",
        "\n",
        "    samples = data[np.random.choice(data.shape[0], size=batch_size, replace=False), :]\n",
        "    for sample in samples:\n",
        "      im, f = sample\n",
        "      if is_train:\n",
        "        im, f = random_augment(im, f)\n",
        "      \n",
        "      im = im.reshape(160 , 120, 1)\n",
        "      images.append(im)\n",
        "      feedbacks.append(f)\n",
        "    yield np.array(images), np.array(feedbacks)"
      ],
      "execution_count": null,
      "outputs": []
    },
    {
      "cell_type": "code",
      "metadata": {
        "id": "th9f-DVv-dU4"
      },
      "source": [
        "from tensorflow.keras.layers import Conv2D, Dropout, Dense, Flatten\n",
        "from tensorflow.keras.models import Sequential\n",
        "from tensorflow.keras.optimizers import Adam\n",
        "\n",
        "\n",
        "model = Sequential()\n",
        "\n",
        "model.add(Conv2D(24, (5, 5), activation='elu', strides=(2, 2), input_shape=(160, 120, 1)))\n",
        "model.add(Conv2D(36, (5, 5), activation='elu', strides=(2, 2)))\n",
        "model.add(Conv2D(48, (5, 5), activation='elu', strides=(2, 2)))\n",
        "model.add(Conv2D(64, (3, 3), activation='elu'))\n",
        "model.add(Conv2D(64, (3, 3), activation='elu'))\n",
        "\n",
        "model.add(Flatten())\n",
        "model.add(Dense(100, activation='elu'))\n",
        "model.add(Dense(50, activation='elu'))\n",
        "model.add(Dense(10, activation='elu'))\n",
        "model.add(Dense(2))\n",
        "\n",
        "model.compile(loss='mean_squared_error', metrics=[\"accuracy\"],  optimizer=Adam(learning_rate=0.001))"
      ],
      "execution_count": null,
      "outputs": []
    },
    {
      "cell_type": "code",
      "metadata": {
        "id": "HqSsX5-Q-jNc"
      },
      "source": [
        "print(model.summary())"
      ],
      "execution_count": null,
      "outputs": []
    },
    {
      "cell_type": "code",
      "metadata": {
        "id": "5bM9cgr9-ldx"
      },
      "source": [
        "epochs = 25\n",
        "\n",
        "model.fit(x=data_generator(train, 300, True),\n",
        "              #steps_per_epoch = 150,\n",
        "              #validation_steps = 50,\n",
        "              validation_data=data_generator(val, 100, False),\n",
        "              steps_per_epoch=len(train) // 300,\n",
        "              validation_steps=len(val) // 100,\n",
        "              epochs=epochs)"
      ],
      "execution_count": null,
      "outputs": []
    },
    {
      "cell_type": "code",
      "metadata": {
        "id": "BIAmM6z1-pHK"
      },
      "source": [
        "model.save('model.h5') "
      ],
      "execution_count": null,
      "outputs": []
    },
    {
      "cell_type": "code",
      "metadata": {
        "colab": {
          "base_uri": "https://localhost:8080/",
          "height": 17
        },
        "id": "NGgPqDbISvgF",
        "outputId": "739f0586-6543-49d4-9a8a-218a5f5d02db"
      },
      "source": [
        "from google.colab import files\n",
        "files.download('model.h5') "
      ],
      "execution_count": null,
      "outputs": [
        {
          "output_type": "display_data",
          "data": {
            "application/javascript": [
              "\n",
              "    async function download(id, filename, size) {\n",
              "      if (!google.colab.kernel.accessAllowed) {\n",
              "        return;\n",
              "      }\n",
              "      const div = document.createElement('div');\n",
              "      const label = document.createElement('label');\n",
              "      label.textContent = `Downloading \"${filename}\": `;\n",
              "      div.appendChild(label);\n",
              "      const progress = document.createElement('progress');\n",
              "      progress.max = size;\n",
              "      div.appendChild(progress);\n",
              "      document.body.appendChild(div);\n",
              "\n",
              "      const buffers = [];\n",
              "      let downloaded = 0;\n",
              "\n",
              "      const channel = await google.colab.kernel.comms.open(id);\n",
              "      // Send a message to notify the kernel that we're ready.\n",
              "      channel.send({})\n",
              "\n",
              "      for await (const message of channel.messages) {\n",
              "        // Send a message to notify the kernel that we're ready.\n",
              "        channel.send({})\n",
              "        if (message.buffers) {\n",
              "          for (const buffer of message.buffers) {\n",
              "            buffers.push(buffer);\n",
              "            downloaded += buffer.byteLength;\n",
              "            progress.value = downloaded;\n",
              "          }\n",
              "        }\n",
              "      }\n",
              "      const blob = new Blob(buffers, {type: 'application/binary'});\n",
              "      const a = document.createElement('a');\n",
              "      a.href = window.URL.createObjectURL(blob);\n",
              "      a.download = filename;\n",
              "      div.appendChild(a);\n",
              "      a.click();\n",
              "      div.remove();\n",
              "    }\n",
              "  "
            ],
            "text/plain": [
              "<IPython.core.display.Javascript object>"
            ]
          },
          "metadata": {
            "tags": []
          }
        },
        {
          "output_type": "display_data",
          "data": {
            "application/javascript": [
              "download(\"download_bbc5cadc-9510-4385-ae3e-f9dff461ea4b\", \"DAA.h5\", 9697512)"
            ],
            "text/plain": [
              "<IPython.core.display.Javascript object>"
            ]
          },
          "metadata": {
            "tags": []
          }
        }
      ]
    }
  ]
}